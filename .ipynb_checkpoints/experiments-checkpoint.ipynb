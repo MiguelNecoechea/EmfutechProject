{
 "cells": [
  {
   "cell_type": "code",
   "id": "initial_id",
   "metadata": {
    "collapsed": true,
    "ExecuteTime": {
     "end_time": "2024-10-18T02:03:41.550986Z",
     "start_time": "2024-10-18T02:03:41.462242Z"
    }
   },
   "source": [
    "import av\n",
    "\n",
    "video_path = '/Users/mnecoea/PycharmProjects/AuraSignalProcessing/output.mkv'"
   ],
   "outputs": [],
   "execution_count": 1
  },
  {
   "metadata": {
    "ExecuteTime": {
     "end_time": "2024-10-18T02:04:21.128557Z",
     "start_time": "2024-10-18T02:04:21.049587Z"
    }
   },
   "cell_type": "code",
   "source": [
    "container = av.open(video_path)\n",
    "container"
   ],
   "id": "3ba26bdc1c020e43",
   "outputs": [
    {
     "data": {
      "text/plain": [
       "<av.InputContainer '/Users/mnecoea/PycharmProjects/AuraSignalProcessing/output.mkv'>"
      ]
     },
     "execution_count": 2,
     "metadata": {},
     "output_type": "execute_result"
    }
   ],
   "execution_count": 2
  },
  {
   "metadata": {
    "ExecuteTime": {
     "end_time": "2024-10-18T02:06:05.257882Z",
     "start_time": "2024-10-18T02:06:05.255318Z"
    }
   },
   "cell_type": "code",
   "source": [
    "stream = container.streams.video[0]\n",
    "stream"
   ],
   "id": "b192ee8aeb2b86d2",
   "outputs": [
    {
     "data": {
      "text/plain": [
       "<av.VideoStream #0 h264, yuv422p 3456x2234 at 0x10b1e41c0>"
      ]
     },
     "execution_count": 3,
     "metadata": {},
     "output_type": "execute_result"
    }
   ],
   "execution_count": 3
  },
  {
   "metadata": {
    "ExecuteTime": {
     "end_time": "2024-10-18T02:07:01.505492Z",
     "start_time": "2024-10-18T02:07:01.503427Z"
    }
   },
   "cell_type": "code",
   "source": [
    "# Get Frame rate\n",
    "average_fps = float(stream.average_rate)\n",
    "average_fps"
   ],
   "id": "8510d5241ff556da",
   "outputs": [
    {
     "data": {
      "text/plain": [
       "30000.0"
      ]
     },
     "execution_count": 5,
     "metadata": {},
     "output_type": "execute_result"
    }
   ],
   "execution_count": 5
  },
  {
   "metadata": {
    "ExecuteTime": {
     "end_time": "2024-10-18T02:09:25.558236Z",
     "start_time": "2024-10-18T02:09:25.334035Z"
    }
   },
   "cell_type": "code",
   "source": [
    "screen = av.open(format='avfoundation', file='3')\n",
    "screen"
   ],
   "id": "5091f06d3785d79a",
   "outputs": [
    {
     "name": "stderr",
     "output_type": "stream",
     "text": [
      "objc[27705]: class `NSKVONotifying_AVCaptureScreenInput' not linked into application\n"
     ]
    },
    {
     "data": {
      "text/plain": [
       "<av.InputContainer '3'>"
      ]
     },
     "execution_count": 7,
     "metadata": {},
     "output_type": "execute_result"
    }
   ],
   "execution_count": 7
  },
  {
   "metadata": {},
   "cell_type": "code",
   "outputs": [],
   "execution_count": null,
   "source": "",
   "id": "ee07f0005cf4e9c6"
  }
 ],
 "metadata": {
  "kernelspec": {
   "display_name": "Python 3",
   "language": "python",
   "name": "python3"
  },
  "language_info": {
   "codemirror_mode": {
    "name": "ipython",
    "version": 2
   },
   "file_extension": ".py",
   "mimetype": "text/x-python",
   "name": "python",
   "nbconvert_exporter": "python",
   "pygments_lexer": "ipython2",
   "version": "2.7.6"
  }
 },
 "nbformat": 4,
 "nbformat_minor": 5
}
